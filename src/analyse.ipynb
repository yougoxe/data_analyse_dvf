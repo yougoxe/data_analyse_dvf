{
 "cells": [
  {
   "attachments": {},
   "cell_type": "markdown",
   "metadata": {},
   "source": [
    "Import des libraires"
   ]
  },
  {
   "cell_type": "code",
   "execution_count": 3,
   "metadata": {},
   "outputs": [],
   "source": [
    "import pandas as pd\n",
    "from matplotlib import pyplot as plt\n",
    "import seaborn as sns\n",
    "import glob"
   ]
  },
  {
   "attachments": {},
   "cell_type": "markdown",
   "metadata": {},
   "source": [
    "# Import du jeu de données"
   ]
  },
  {
   "cell_type": "code",
   "execution_count": 4,
   "metadata": {},
   "outputs": [
    {
     "name": "stderr",
     "output_type": "stream",
     "text": [
      "C:\\Users\\maelp\\AppData\\Local\\Temp\\ipykernel_10532\\1324177573.py:2: DtypeWarning: Columns (18,23,24,26,28,41) have mixed types. Specify dtype option on import or set low_memory=False.\n",
      "  dvf_raw = pd.concat([pd.read_csv(file,sep=\"|\", decimal=',') for file in files_to_load])\n"
     ]
    }
   ],
   "source": [
    "files_to_load = glob.glob('../data/*.txt')\n",
    "dvf_raw = pd.concat([pd.read_csv(file,sep=\"|\", decimal=',') for file in files_to_load])\n",
    "df_reference_departement_raw = pd.read_csv(\"../reference/departements-region.csv\",delimiter=\",\")"
   ]
  },
  {
   "attachments": {},
   "cell_type": "markdown",
   "metadata": {},
   "source": [
    "# purification des données"
   ]
  },
  {
   "cell_type": "code",
   "execution_count": 5,
   "metadata": {},
   "outputs": [],
   "source": [
    "dvf_raw['Date mutation'] = pd.to_datetime(dvf_raw['Date mutation'], format='%d/%m/%Y')\n",
    "dvf_raw['Nature mutation'] = dvf_raw['Nature mutation'].astype('category')\n",
    "\n",
    "colonnes_a_garder = [\n",
    "    'Date mutation', \n",
    "    'Nature mutation', \n",
    "    'Valeur fonciere',\n",
    "    'Commune',\n",
    "    'Code departement',\n",
    "    'Surface terrain',\n",
    "    'Surface reelle bati'\n",
    "    ]\n",
    "\n",
    "df_vf_raw = dvf_raw.drop(columns=[col for col in dvf_raw.columns if col not in colonnes_a_garder])\n",
    "pd.set_option('display.float_format', '{:.2f}'.format)"
   ]
  },
  {
   "attachments": {},
   "cell_type": "markdown",
   "metadata": {},
   "source": [
    "### Aout d'un zéro ddans le code département pour Merger"
   ]
  },
  {
   "cell_type": "code",
   "execution_count": 6,
   "metadata": {},
   "outputs": [],
   "source": [
    "def updateCode(code : object) -> str:\n",
    "    return str.zfill(\"{0}\".format(code),2)\n",
    "\n",
    "dvf_raw['Code departement']=dvf_raw['Code departement'].apply(updateCode)\n",
    "\n",
    "df_dvf_region = dvf_raw.merge(df_reference_departement_raw, how='left',left_on='Code departement', right_on='num_dep')"
   ]
  },
  {
   "cell_type": "code",
   "execution_count": 7,
   "metadata": {},
   "outputs": [
    {
     "name": "stdout",
     "output_type": "stream",
     "text": [
      "<class 'pandas.core.frame.DataFrame'>\n",
      "RangeIndex: 3803885 entries, 0 to 3803884\n",
      "Data columns (total 46 columns):\n",
      " #   Column                      Dtype         \n",
      "---  ------                      -----         \n",
      " 0   Identifiant de document     float64       \n",
      " 1   Reference document          float64       \n",
      " 2   1 Articles CGI              float64       \n",
      " 3   2 Articles CGI              float64       \n",
      " 4   3 Articles CGI              float64       \n",
      " 5   4 Articles CGI              float64       \n",
      " 6   5 Articles CGI              float64       \n",
      " 7   No disposition              int64         \n",
      " 8   Date mutation               datetime64[ns]\n",
      " 9   Nature mutation             category      \n",
      " 10  Valeur fonciere             float64       \n",
      " 11  No voie                     float64       \n",
      " 12  B/T/Q                       object        \n",
      " 13  Type de voie                object        \n",
      " 14  Code voie                   object        \n",
      " 15  Voie                        object        \n",
      " 16  Code postal                 float64       \n",
      " 17  Commune                     object        \n",
      " 18  Code departement            object        \n",
      " 19  Code commune                int64         \n",
      " 20  Prefixe de section          float64       \n",
      " 21  Section                     object        \n",
      " 22  No plan                     int64         \n",
      " 23  No Volume                   object        \n",
      " 24  1er lot                     object        \n",
      " 25  Surface Carrez du 1er lot   float64       \n",
      " 26  2eme lot                    object        \n",
      " 27  Surface Carrez du 2eme lot  float64       \n",
      " 28  3eme lot                    object        \n",
      " 29  Surface Carrez du 3eme lot  float64       \n",
      " 30  4eme lot                    float64       \n",
      " 31  Surface Carrez du 4eme lot  float64       \n",
      " 32  5eme lot                    float64       \n",
      " 33  Surface Carrez du 5eme lot  float64       \n",
      " 34  Nombre de lots              int64         \n",
      " 35  Code type local             float64       \n",
      " 36  Type local                  object        \n",
      " 37  Identifiant local           float64       \n",
      " 38  Surface reelle bati         float64       \n",
      " 39  Nombre pieces principales   float64       \n",
      " 40  Nature culture              object        \n",
      " 41  Nature culture speciale     object        \n",
      " 42  Surface terrain             float64       \n",
      " 43  num_dep                     object        \n",
      " 44  dep_name                    object        \n",
      " 45  region_name                 object        \n",
      "dtypes: category(1), datetime64[ns](1), float64(23), int64(4), object(17)\n",
      "memory usage: 1.3+ GB\n"
     ]
    }
   ],
   "source": [
    "df_dvf_region.info()"
   ]
  },
  {
   "cell_type": "code",
   "execution_count": 27,
   "metadata": {},
   "outputs": [],
   "source": [
    "#dvf_region_1 = df_dvf_region.loc[(df_dvf_region['Nature mutation']== 'Vente') & df_dvf_region['Code departement'] == '01']\n",
    "#dvf_region_1['Valeur fonciere'].mean()\n",
    "\n",
    "moyenne_prix_departement = df_dvf_region.groupby('Code departement')['Valeur fonciere'].mean()\n",
    "nombre_vente_departement = df_dvf_region.groupby('Code departement')['Valeur fonciere'].count()\n",
    "nom_departement = df_dvf_region.groupby('Code departement')['dep_name']\n",
    "\n",
    "# Affichage du résultat\n",
    "#print(moyenne_prix_departement)\n",
    "#print(nombre_vente_departement)\n",
    "\n",
    "fusion_prix_moyen_nb_vente = pd.merge(moyenne_prix_departement, nombre_vente_departement, left_index=True, right_index=True)\n",
    "fusion.rename(columns={\"Valeur fonciere_x\": \"moyenne_prix\", \"Valeur fonciere_y\": \"nombre_vente\"},inplace=True)\n",
    "#fusion.reset_index(inplace=True)"
   ]
  },
  {
   "cell_type": "code",
   "execution_count": 15,
   "metadata": {},
   "outputs": [
    {
     "name": "stdout",
     "output_type": "stream",
     "text": [
      "   Code departement  moyenne_prix  nombre_vente  dep_name\n",
      "21               23      85905.16         15009     15299\n",
      "55               55      87403.05         11816     11821\n",
      "43               43      96703.16         20718     20839\n",
      "67               70     112698.57         18434     18462\n",
      "14               15     115300.03         13430     13475\n"
     ]
    }
   ],
   "source": [
    "colonne_tri = 'moyenne_prix'\n",
    "df_trie = fusion.sort_values(by=colonne_tri)[:5]\n",
    "print(df_trie)\n"
   ]
  },
  {
   "cell_type": "code",
   "execution_count": 29,
   "metadata": {},
   "outputs": [
    {
     "data": {
      "image/png": "[encoded data removed]",
      "text/plain": [
       "<Figure size 640x480 with 1 Axes>"
      ]
     },
     "metadata": {},
     "output_type": "display_data"
    }
   ],
   "source": [
    "plt.pie(df_trie['nombre_vente'],labels =df_trie['dep_name'])\n",
    "\n",
    "# Ajouter un titre\n",
    "plt.title('Les 5 département avec le moins de ventes')\n",
    "# Afficher le diagramme\n",
    "plt.show()"
   ]
  }
 ],
 "metadata": {
  "kernelspec": {
   "display_name": ".venv",
   "language": "python",
   "name": "python3"
  },
  "language_info": {
   "codemirror_mode": {
    "name": "ipython",
    "version": 3
   },
   "file_extension": ".py",
   "mimetype": "text/x-python",
   "name": "python",
   "nbconvert_exporter": "python",
   "pygments_lexer": "ipython3",
   "version": "3.10.2"
  },
  "orig_nbformat": 4
 },
 "nbformat": 4,
 "nbformat_minor": 2
}
